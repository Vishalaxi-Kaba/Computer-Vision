{
 "cells": [
  {
   "cell_type": "code",
   "execution_count": 1,
   "id": "2fedd131",
   "metadata": {},
   "outputs": [],
   "source": [
    "import cv2\n",
    "import numpy as np"
   ]
  },
  {
   "cell_type": "markdown",
   "id": "bf3e7f20",
   "metadata": {},
   "source": [
    "# Load/Read Image"
   ]
  },
  {
   "cell_type": "code",
   "execution_count": 2,
   "id": "1e886add",
   "metadata": {},
   "outputs": [],
   "source": [
    "img=cv2.imread('image_examples/Modi.jpg')"
   ]
  },
  {
   "cell_type": "code",
   "execution_count": 3,
   "id": "09c4f345",
   "metadata": {},
   "outputs": [
    {
     "name": "stdout",
     "output_type": "stream",
     "text": [
      "[[[255 255 255]\n",
      "  [255 255 255]\n",
      "  [255 255 255]\n",
      "  ...\n",
      "  [255 255 255]\n",
      "  [255 255 255]\n",
      "  [255 255 255]]\n",
      "\n",
      " [[255 255 255]\n",
      "  [255 255 255]\n",
      "  [255 255 255]\n",
      "  ...\n",
      "  [255 255 255]\n",
      "  [255 255 255]\n",
      "  [255 255 255]]\n",
      "\n",
      " [[255 255 255]\n",
      "  [255 255 255]\n",
      "  [255 255 255]\n",
      "  ...\n",
      "  [255 255 255]\n",
      "  [255 255 255]\n",
      "  [255 255 255]]\n",
      "\n",
      " ...\n",
      "\n",
      " [[255 255 255]\n",
      "  [255 255 255]\n",
      "  [255 255 255]\n",
      "  ...\n",
      "  [255 255 255]\n",
      "  [255 255 255]\n",
      "  [255 255 255]]\n",
      "\n",
      " [[255 255 255]\n",
      "  [255 255 255]\n",
      "  [255 255 255]\n",
      "  ...\n",
      "  [255 255 255]\n",
      "  [255 255 255]\n",
      "  [255 255 255]]\n",
      "\n",
      " [[255 255 255]\n",
      "  [255 255 255]\n",
      "  [255 255 255]\n",
      "  ...\n",
      "  [255 255 255]\n",
      "  [255 255 255]\n",
      "  [255 255 255]]]\n"
     ]
    }
   ],
   "source": [
    "print(img)"
   ]
  },
  {
   "cell_type": "markdown",
   "id": "13ca652f",
   "metadata": {},
   "source": [
    "# Shape gives the dimensions of the image array"
   ]
  },
  {
   "cell_type": "code",
   "execution_count": 4,
   "id": "f34e84af",
   "metadata": {},
   "outputs": [
    {
     "data": {
      "text/plain": [
       "(1358, 1500, 3)"
      ]
     },
     "execution_count": 4,
     "metadata": {},
     "output_type": "execute_result"
    }
   ],
   "source": [
    "img.shape"
   ]
  },
  {
   "cell_type": "code",
   "execution_count": 5,
   "id": "35455ef4",
   "metadata": {},
   "outputs": [
    {
     "data": {
      "text/plain": [
       "1358"
      ]
     },
     "execution_count": 5,
     "metadata": {},
     "output_type": "execute_result"
    }
   ],
   "source": [
    "#height\n",
    "int(img.shape[0])"
   ]
  },
  {
   "cell_type": "code",
   "execution_count": 6,
   "id": "613db050",
   "metadata": {},
   "outputs": [
    {
     "data": {
      "text/plain": [
       "1500"
      ]
     },
     "execution_count": 6,
     "metadata": {},
     "output_type": "execute_result"
    }
   ],
   "source": [
    "#width\n",
    "int(img.shape[1])"
   ]
  },
  {
   "cell_type": "markdown",
   "id": "c4c8c574",
   "metadata": {},
   "source": [
    "# Display the image"
   ]
  },
  {
   "cell_type": "code",
   "execution_count": 7,
   "id": "564535f8",
   "metadata": {},
   "outputs": [],
   "source": [
    "cv2.imshow('PM',img)\n",
    "cv2.waitKey()\n",
    "cv2.destroyAllWindows()"
   ]
  },
  {
   "cell_type": "code",
   "execution_count": 8,
   "id": "a3f7476d",
   "metadata": {},
   "outputs": [],
   "source": [
    "img=cv2.imread('image_examples/Modi.jpg',0)\n",
    "cv2.imshow('Modi Image',img)\n",
    "cv2.waitKey()\n",
    "cv2.destroyAllWindows()"
   ]
  },
  {
   "cell_type": "markdown",
   "id": "cedb1023",
   "metadata": {},
   "source": [
    "# Save Image"
   ]
  },
  {
   "cell_type": "code",
   "execution_count": 9,
   "id": "5352e547",
   "metadata": {},
   "outputs": [
    {
     "data": {
      "text/plain": [
       "True"
      ]
     },
     "execution_count": 9,
     "metadata": {},
     "output_type": "execute_result"
    }
   ],
   "source": [
    "cv2.imwrite('modi_b_w.jpg',img)"
   ]
  },
  {
   "cell_type": "markdown",
   "id": "56f8f664",
   "metadata": {},
   "source": [
    "# Resize Image"
   ]
  },
  {
   "cell_type": "code",
   "execution_count": 10,
   "id": "07ef6cd7",
   "metadata": {},
   "outputs": [],
   "source": [
    "img=cv2.imread('image_examples/Modi.jpg')\n",
    "resized_image=cv2.resize(img,(500,500))\n",
    "cv2.imshow('Modi Image',resized_image)\n",
    "cv2.waitKey()\n",
    "cv2.destroyAllWindows()"
   ]
  },
  {
   "cell_type": "markdown",
   "id": "91b533e1",
   "metadata": {},
   "source": [
    "# Face Detection Using HAAR Cascade Classifier"
   ]
  },
  {
   "cell_type": "code",
   "execution_count": 22,
   "id": "3e5d7481",
   "metadata": {},
   "outputs": [
    {
     "name": "stderr",
     "output_type": "stream",
     "text": [
      "<>:14: SyntaxWarning: \"is\" with a literal. Did you mean \"==\"?\n",
      "<>:14: SyntaxWarning: \"is\" with a literal. Did you mean \"==\"?\n",
      "<ipython-input-22-3003cc084920>:14: SyntaxWarning: \"is\" with a literal. Did you mean \"==\"?\n",
      "  if faces is ():\n"
     ]
    }
   ],
   "source": [
    "# We point OpenCV's CascadeClassifier function to where our \n",
    "# classifier (XML file format) is stored\n",
    "face_classifier = cv2.CascadeClassifier('Haarcascades/haarcascade_frontalface_default.xml')\n",
    "\n",
    "# Load our image then convert it to grayscale\n",
    "image = cv2.imread('image_examples/Modi.jpg')\n",
    "gray = cv2.cvtColor(image, cv2.COLOR_BGR2GRAY)\n",
    "\n",
    "# Our classifier returns the ROI of the detected face as a tuple\n",
    "# It stores the top left coordinate and the bottom right coordiantes\n",
    "faces = face_classifier.detectMultiScale(gray, 1.3, 5)\n",
    "\n",
    "# When no faces detected, face_classifier returns and empty tuple\n",
    "if faces is ():\n",
    "    print(\"No faces found\")\n",
    "\n",
    "# We iterate through our faces array and draw a rectangle\n",
    "# over each face in faces\n",
    "for (x,y,w,h) in faces:\n",
    "    cv2.rectangle(image, (x,y), (x+w,y+h), (127,0,255), 2)\n",
    "    cv2.imshow('Face Detection', image)\n",
    "    cv2.waitKey(0)\n",
    "    \n",
    "cv2.destroyAllWindows()"
   ]
  },
  {
   "cell_type": "markdown",
   "id": "b0128dde",
   "metadata": {},
   "source": [
    "# Face & Eye Detection using HAAR Cascade Classifiers in Image"
   ]
  },
  {
   "cell_type": "code",
   "execution_count": 23,
   "id": "35f4cfb6",
   "metadata": {},
   "outputs": [
    {
     "name": "stderr",
     "output_type": "stream",
     "text": [
      "<>:10: SyntaxWarning: \"is\" with a literal. Did you mean \"==\"?\n",
      "<>:10: SyntaxWarning: \"is\" with a literal. Did you mean \"==\"?\n",
      "<ipython-input-23-777c2625cadc>:10: SyntaxWarning: \"is\" with a literal. Did you mean \"==\"?\n",
      "  if faces is ():\n"
     ]
    }
   ],
   "source": [
    "face_classifier = cv2.CascadeClassifier('Haarcascades/haarcascade_frontalface_default.xml')\n",
    "eye_classifier = cv2.CascadeClassifier('Haarcascades/haarcascade_eye.xml')\n",
    " \n",
    "img = cv2.imread('image_examples/Modi.jpg')\n",
    "gray = cv2.cvtColor(img, cv2.COLOR_BGR2GRAY)\n",
    "\n",
    "faces = face_classifier.detectMultiScale(gray, 1.3, 5)\n",
    "\n",
    "# When no faces detected, face_classifier returns and empty tuple\n",
    "if faces is ():\n",
    "    print(\"No Face Found\")\n",
    "\n",
    "for (x,y,w,h) in faces:\n",
    "    cv2.rectangle(img,(x,y),(x+w,y+h),(127,0,255),2)\n",
    "    cv2.imshow('img',img)\n",
    "    cv2.waitKey(0)\n",
    "    roi_gray = gray[y:y+h, x:x+w]\n",
    "    roi_color = img[y:y+h, x:x+w]\n",
    "    eyes = eye_classifier.detectMultiScale(roi_gray)\n",
    "    for (ex,ey,ew,eh) in eyes:\n",
    "        cv2.rectangle(roi_color,(ex,ey),(ex+ew,ey+eh),(255,255,0),2)\n",
    "        cv2.imshow('img',img)\n",
    "        cv2.waitKey(0)\n",
    "    \n",
    "cv2.destroyAllWindows()"
   ]
  },
  {
   "cell_type": "markdown",
   "id": "fa59722c",
   "metadata": {},
   "source": [
    "# Capture a video"
   ]
  },
  {
   "cell_type": "code",
   "execution_count": 15,
   "id": "3d55bf34",
   "metadata": {},
   "outputs": [],
   "source": [
    "import cv2\n",
    "video=cv2.VideoCapture(0)\n",
    "\n",
    "while True:\n",
    "    check, frame=video.read()\n",
    "    gray=cv2.cvtColor(frame,cv2.COLOR_BGR2GRAY)\n",
    "    cv2.imshow('Video',gray)\n",
    "    if cv2.waitKey(1)==ord('q'):\n",
    "        break\n",
    "video.release()\n",
    "cv2.destroyAllWindows()"
   ]
  },
  {
   "cell_type": "markdown",
   "id": "8ec9e946",
   "metadata": {},
   "source": [
    "# Pedistrian Detection"
   ]
  },
  {
   "cell_type": "code",
   "execution_count": 17,
   "id": "61988133",
   "metadata": {},
   "outputs": [],
   "source": [
    "body_classifier=cv2.CascadeClassifier('Haarcascades\\haarcascade_fullbody.xml')\n",
    "cap=cv2.VideoCapture('image_examples/walking.avi')\n",
    "while cap.isOpened():\n",
    "    ret,frame=cap.read()\n",
    "    gray=cv2.cvtColor(frame, cv2.COLOR_BGR2GRAY)\n",
    "    bodies=body_classifier.detectMultiScale(gray,1.2,3)\n",
    "    \n",
    "    for (x,y,w,h) in bodies:\n",
    "        cv2.rectangle(frame,(x,y),(x+w,y+h),(0,255,255),2)\n",
    "        cv2.imshow('Pedestrians',frame)\n",
    "    if cv2.waitKey(1)==ord('q'):\n",
    "        break\n",
    "cap.release()\n",
    "cv2.destroyAllWindows()"
   ]
  },
  {
   "cell_type": "markdown",
   "id": "c524319c",
   "metadata": {},
   "source": [
    "# Car Detection"
   ]
  },
  {
   "cell_type": "code",
   "execution_count": 18,
   "id": "c2ef4361",
   "metadata": {},
   "outputs": [],
   "source": [
    "import time\n",
    "\n",
    "car_classifier=cv2.CascadeClassifier('Haarcascades\\haarcascade_car.xml')\n",
    "\n",
    "cap=cv2.VideoCapture('image_examples/cars.avi')\n",
    "\n",
    "while cap.isOpened():\n",
    "    time.sleep(.05)\n",
    "    ret,frame=cap.read()\n",
    "    gray=cv2.cvtColor(frame, cv2.COLOR_BGR2GRAY)\n",
    "    \n",
    "    cars=car_classifier.detectMultiScale(gray,1.4,2)\n",
    "    \n",
    "    for(x,y,w,h) in cars:\n",
    "        cv2.rectangle(frame,(x,y),(x+w, y+h),(0,255,255),2)\n",
    "        cv2.imshow('Cars', frame)\n",
    "    if cv2.waitKey(1)==ord('q'):\n",
    "        break\n",
    "cap.release()\n",
    "cv2.destroyAllWindows()"
   ]
  },
  {
   "cell_type": "code",
   "execution_count": null,
   "id": "a19b076c",
   "metadata": {},
   "outputs": [],
   "source": []
  }
 ],
 "metadata": {
  "kernelspec": {
   "display_name": "Python 3",
   "language": "python",
   "name": "python3"
  },
  "language_info": {
   "codemirror_mode": {
    "name": "ipython",
    "version": 3
   },
   "file_extension": ".py",
   "mimetype": "text/x-python",
   "name": "python",
   "nbconvert_exporter": "python",
   "pygments_lexer": "ipython3",
   "version": "3.8.8"
  }
 },
 "nbformat": 4,
 "nbformat_minor": 5
}
